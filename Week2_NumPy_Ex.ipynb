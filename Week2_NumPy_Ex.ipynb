{
 "cells": [
  {
   "cell_type": "markdown",
   "metadata": {},
   "source": [
    "# Chapter 4: NumPy Basics: Arrays and Vectorized Computation"
   ]
  },
  {
   "cell_type": "code",
   "execution_count": 1,
   "metadata": {
    "collapsed": true
   },
   "outputs": [],
   "source": [
    "import numpy as np"
   ]
  },
  {
   "cell_type": "markdown",
   "metadata": {},
   "source": [
    "## Dataset:80 Cereals - Nutrition data on 80cereal products\n",
    "\n",
    "The data file can be downloaded from [Kaggle.com](https://www.kaggle.com/crawford/80-cereals)\n",
    "\n",
    ">If you like to eat cereal, do yourself a favor and avoid this dataset at all costs. After seeing these data it will never be the same for me to eat Fruity Pebbles again. - Kaggle\n",
    "\n",
    "- Download the zip file from Kaggle (login required)\n",
    "- Unzip to get `cereal.csv` file\n",
    "- Move the csv file to a proper folder\n",
    "- Open the csv file using notepad and excel to examine its content"
   ]
  },
  {
   "cell_type": "code",
   "execution_count": 3,
   "metadata": {},
   "outputs": [
    {
     "name": "stdout",
     "output_type": "stream",
     "text": [
      "My current working directory: C:\\Users\\ch002\\Dropbox\\Teaching\\CMP464Fall2019\n",
      "Make sure the csv file exists: ['cereal.csv']\n"
     ]
    }
   ],
   "source": [
    "import os\n",
    "print(\"My current working directory:\", os.getcwd())\n",
    "print(\"Make sure the csv file exists:\", os.listdir('Data/cereals'))\n",
    "# my cereal file can be accessed as \"Data/cereals/cereal.csv\""
   ]
  },
  {
   "cell_type": "code",
   "execution_count": 5,
   "metadata": {
    "collapsed": true
   },
   "outputs": [],
   "source": [
    "# Load the csv file with np.loadtxt()\n",
    "# Spoiler alert: in the next chapter we will learn a more user-friendly\n",
    "# way of loading data.\n",
    "\n",
    "# How to use np.loadtxt()?\n",
    "# ?np.loadtxt() # Display documentation\n",
    "# ??np.loadtxt() # Display source code"
   ]
  },
  {
   "cell_type": "code",
   "execution_count": 6,
   "metadata": {},
   "outputs": [
    {
     "data": {
      "text/plain": [
       "array([[0., 1.],\n",
       "       [2., 3.]])"
      ]
     },
     "execution_count": 6,
     "metadata": {},
     "output_type": "execute_result"
    }
   ],
   "source": [
    "# Try an example from documentation\n",
    "from io import StringIO \n",
    "c = StringIO(u\"0 1\\n2 3\")\n",
    "np.loadtxt(c)"
   ]
  },
  {
   "cell_type": "code",
   "execution_count": 7,
   "metadata": {},
   "outputs": [
    {
     "name": "stdout",
     "output_type": "stream",
     "text": [
      "['name' 'mfr' 'type' 'calories' 'protein' 'fat' 'sodium' 'fiber' 'carbo'\n",
      " 'sugars' 'potass' 'vitamins' 'shelf' 'weight' 'cups' 'rating']\n"
     ]
    }
   ],
   "source": [
    "# Load cereal.csv as a numpy array named raw_data\n",
    "raw_data = np.loadtxt(\"Data/cereals/cereal.csv\",\n",
    "                      dtype=str,\n",
    "                      delimiter=\",\")\n",
    "print(raw_data[0, :])"
   ]
  },
  {
   "cell_type": "code",
   "execution_count": 8,
   "metadata": {},
   "outputs": [
    {
     "name": "stdout",
     "output_type": "stream",
     "text": [
      "Shape: (78, 16)\n"
     ]
    }
   ],
   "source": [
    "# What is the shape of raw_data?\n",
    "print(\"Shape:\", raw_data.shape)"
   ]
  },
  {
   "cell_type": "code",
   "execution_count": 18,
   "metadata": {},
   "outputs": [
    {
     "name": "stdout",
     "output_type": "stream",
     "text": [
      "name, mfr, type, calories, protein, fat, sodium, fiber, carbo, sugars, potass, vitamins, shelf, weight, cups, rating\n"
     ]
    }
   ],
   "source": [
    "# Create a list of feature names (call it feature_names)\n",
    "feature_names = raw_data[0, :]\n",
    "# print(\"Feature names:\", raw_data[0, :])\n",
    "\n",
    "# Print a list in a nicer format:\n",
    "# Create a string that joins all values from the array\n",
    "feature_string = \", \".join(feature_names)\n",
    "print(feature_string)"
   ]
  },
  {
   "cell_type": "code",
   "execution_count": 100,
   "metadata": {},
   "outputs": [
    {
     "name": "stdout",
     "output_type": "stream",
     "text": [
      "Shape of data: (77, 16)\n"
     ]
    }
   ],
   "source": [
    "# Assign the rest to data\n",
    "data = raw_data[1:, :]\n",
    "\n",
    "# Print the shape of data\n",
    "print(\"Shape of data:\", data.shape)"
   ]
  },
  {
   "cell_type": "markdown",
   "metadata": {},
   "source": [
    "### Content\n",
    "What are the features?\n",
    "\n",
    "- Name: Name of cereal\n",
    "- mfr: Manufacturer of cereal\n",
    "    - A = American Home Food Products;\n",
    "    - G = General Mills\n",
    "    - K = Kelloggs\n",
    "    - N = Nabisco\n",
    "    - P = Post\n",
    "    - Q = Quaker Oats\n",
    "    - R = Ralston Purina\n",
    "- type:\n",
    "    - cold\n",
    "    - hot\n",
    "- calories: calories per serving\n",
    "- protein: grams of protein\n",
    "- fat: grams of fat\n",
    "- sodium: milligrams of sodium\n",
    "- fiber: grams of dietary fiber\n",
    "- carbo: grams of complex carbohydrates\n",
    "- sugars: grams of sugars\n",
    "- potass: milligrams of potassium\n",
    "- vitamins: vitamins and minerals - 0, 25, or 100, indicating the typical percentage of FDA recommended\n",
    "- shelf: display shelf (1, 2, or 3, counting from the floor)\n",
    "- weight: weight in ounces of one serving\n",
    "- cups: number of cups in one serving\n",
    "- rating: a rating of the cereals (Possibly from Consumer Reports?)"
   ]
  },
  {
   "cell_type": "markdown",
   "metadata": {},
   "source": [
    "Next, let's examine some important features"
   ]
  },
  {
   "cell_type": "code",
   "execution_count": 21,
   "metadata": {},
   "outputs": [
    {
     "name": "stdout",
     "output_type": "stream",
     "text": [
      "100% Bran\n",
      "100% Natural Bran\n",
      "All-Bran\n",
      "All-Bran with Extra Fiber\n",
      "Almond Delight\n",
      "Apple Cinnamon Cheerios\n",
      "Apple Jacks\n",
      "Basic 4\n",
      "Bran Chex\n",
      "Bran Flakes\n",
      "Cap'n'Crunch\n",
      "Cheerios\n",
      "Cinnamon Toast Crunch\n",
      "Clusters\n",
      "Cocoa Puffs\n",
      "Corn Chex\n",
      "Corn Flakes\n",
      "Corn Pops\n",
      "Count Chocula\n",
      "Cracklin' Oat Bran\n",
      "Cream of Wheat (Quick)\n",
      "Crispix\n",
      "Crispy Wheat & Raisins\n",
      "Double Chex\n",
      "Froot Loops\n",
      "Frosted Flakes\n",
      "Frosted Mini-Wheats\n",
      "Fruit & Fibre Dates; Walnuts; and Oats\n",
      "Fruitful Bran\n",
      "Fruity Pebbles\n",
      "Golden Crisp\n",
      "Golden Grahams\n",
      "Grape Nuts Flakes\n",
      "Grape-Nuts\n",
      "Great Grains Pecan\n",
      "Honey Graham Ohs\n",
      "Honey Nut Cheerios\n",
      "Honey-comb\n",
      "Just Right Crunchy  Nuggets\n",
      "Just Right Fruit & Nut\n",
      "Kix\n",
      "Life\n",
      "Lucky Charms\n",
      "Maypo\n",
      "Muesli Raisins; Dates; & Almonds\n",
      "Muesli Raisins; Peaches; & Pecans\n",
      "Mueslix Crispy Blend\n",
      "Multi-Grain Cheerios\n",
      "Nut&Honey Crunch\n",
      "Nutri-Grain Almond-Raisin\n",
      "Nutri-grain Wheat\n",
      "Oatmeal Raisin Crisp\n",
      "Post Nat. Raisin Bran\n",
      "Product 19\n",
      "Puffed Rice\n",
      "Puffed Wheat\n",
      "Quaker Oat Squares\n",
      "Quaker Oatmeal\n",
      "Raisin Bran\n",
      "Raisin Nut Bran\n",
      "Raisin Squares\n",
      "Rice Chex\n",
      "Rice Krispies\n",
      "Shredded Wheat\n",
      "Shredded Wheat 'n'Bran\n",
      "Shredded Wheat spoon size\n",
      "Smacks\n",
      "Special K\n",
      "Strawberry Fruit Wheats\n",
      "Total Corn Flakes\n",
      "Total Raisin Bran\n",
      "Total Whole Grain\n",
      "Triples\n",
      "Trix\n",
      "Wheat Chex\n",
      "Wheaties\n",
      "Wheaties Honey Gold\n"
     ]
    }
   ],
   "source": [
    "# ---------Names------------\n",
    "# Display the list of cereal names\n",
    "print(\"\\n\".join(data[:, 0]))"
   ]
  },
  {
   "cell_type": "code",
   "execution_count": 23,
   "metadata": {},
   "outputs": [
    {
     "name": "stdout",
     "output_type": "stream",
     "text": [
      "[1 3 2 7 5]\n",
      "[1 2 3 5 7]\n"
     ]
    }
   ],
   "source": [
    "# How to sort an numpy array?\n",
    "ary = np.array([1, 3, 2, 7, 5])\n",
    "print(ary)\n",
    "# ary = np.sort(ary)\n",
    "ary.sort()\n",
    "print(ary)"
   ]
  },
  {
   "cell_type": "code",
   "execution_count": 24,
   "metadata": {},
   "outputs": [
    {
     "name": "stdout",
     "output_type": "stream",
     "text": [
      "[[  1   4  23  19]\n",
      " [  5   2   6 -20]]\n",
      "sorting each row:\n",
      "[[  1   4  19  23]\n",
      " [-20   2   5   6]]\n",
      "sorting each column:\n",
      "[[  1   2   6 -20]\n",
      " [  5   4  23  19]]\n"
     ]
    }
   ],
   "source": [
    "matrix = np.array([[1, 4, 23, 19], \n",
    "                   [5, 2, 6, -20]])\n",
    "print(matrix)\n",
    "print(\"sorting each row:\")\n",
    "print(np.sort(matrix, axis=1)) # or: np.sort(matrix)\n",
    "print(\"sorting each column:\")\n",
    "print(np.sort(matrix, axis=0))"
   ]
  },
  {
   "cell_type": "code",
   "execution_count": 25,
   "metadata": {},
   "outputs": [
    {
     "name": "stdout",
     "output_type": "stream",
     "text": [
      "Count Chocula\n",
      "Froot Loops\n",
      "Special K\n",
      "Bran Flakes\n",
      "Honey-comb\n",
      "Cinnamon Toast Crunch\n",
      "Just Right Crunchy  Nuggets\n",
      "Puffed Rice\n",
      "Nut&Honey Crunch\n",
      "Just Right Fruit & Nut\n",
      "Kix\n",
      "Maypo\n",
      "Frosted Flakes\n",
      "Rice Krispies\n",
      "Basic 4\n",
      "Apple Jacks\n",
      "Triples\n",
      "Muesli Raisins; Dates; & Almonds\n",
      "Trix\n",
      "Wheaties Honey Gold\n",
      "All-Bran with Extra Fiber\n",
      "Almond Delight\n",
      "Honey Graham Ohs\n",
      "Strawberry Fruit Wheats\n",
      "Oatmeal Raisin Crisp\n",
      "Cap'n'Crunch\n",
      "Apple Cinnamon Cheerios\n",
      "Raisin Nut Bran\n",
      "Wheaties\n",
      "Fruit & Fibre Dates; Walnuts; and Oats\n",
      "Crispy Wheat & Raisins\n",
      "Fruitful Bran\n",
      "All-Bran\n",
      "Corn Pops\n",
      "Quaker Oatmeal\n",
      "Puffed Wheat\n",
      "Mueslix Crispy Blend\n",
      "Corn Chex\n",
      "Golden Grahams\n",
      "Total Whole Grain\n",
      "Honey Nut Cheerios\n",
      "Muesli Raisins; Peaches; & Pecans\n",
      "Quaker Oat Squares\n",
      "Wheat Chex\n",
      "Grape Nuts Flakes\n",
      "Cocoa Puffs\n",
      "Grape-Nuts\n",
      "Double Chex\n",
      "100% Natural Bran\n",
      "Cream of Wheat (Quick)\n",
      "100% Bran\n",
      "Nutri-grain Wheat\n",
      "Post Nat. Raisin Bran\n",
      "Frosted Mini-Wheats\n",
      "Product 19\n",
      "Lucky Charms\n",
      "Life\n",
      "Crispix\n",
      "Smacks\n",
      "Total Raisin Bran\n",
      "Corn Flakes\n",
      "Cracklin' Oat Bran\n",
      "Total Corn Flakes\n",
      "Shredded Wheat\n",
      "Cheerios\n",
      "Raisin Squares\n",
      "Bran Chex\n",
      "Golden Crisp\n",
      "Shredded Wheat 'n'Bran\n",
      "Fruity Pebbles\n",
      "Raisin Bran\n",
      "Rice Chex\n",
      "Multi-Grain Cheerios\n",
      "Great Grains Pecan\n",
      "Shredded Wheat spoon size\n",
      "Nutri-Grain Almond-Raisin\n",
      "Clusters\n"
     ]
    }
   ],
   "source": [
    "# The names are nicely sorted. How to sort an array?\n",
    "\n",
    "# To make an example, let's shuffle the array first\n",
    "name_data = np.array(data[:, 0])\n",
    "example = np.array(name_data)\n",
    "np.random.shuffle(example)\n",
    "print(\"\\n\".join(example))"
   ]
  },
  {
   "cell_type": "code",
   "execution_count": 26,
   "metadata": {},
   "outputs": [
    {
     "name": "stdout",
     "output_type": "stream",
     "text": [
      "['100% Bran' '100% Natural Bran' 'All-Bran' 'All-Bran with Extra Fiber'\n",
      " 'Almond Delight' 'Apple Cinnamon Cheerios' 'Apple Jacks' 'Basic 4'\n",
      " 'Bran Chex' 'Bran Flakes' \"Cap'n'Crunch\" 'Cheerios'\n",
      " 'Cinnamon Toast Crunch' 'Clusters' 'Cocoa Puffs' 'Corn Chex'\n",
      " 'Corn Flakes' 'Corn Pops' 'Count Chocula' \"Cracklin' Oat Bran\"\n",
      " 'Cream of Wheat (Quick)' 'Crispix' 'Crispy Wheat & Raisins' 'Double Chex'\n",
      " 'Froot Loops' 'Frosted Flakes' 'Frosted Mini-Wheats'\n",
      " 'Fruit & Fibre Dates; Walnuts; and Oats' 'Fruitful Bran' 'Fruity Pebbles'\n",
      " 'Golden Crisp' 'Golden Grahams' 'Grape Nuts Flakes' 'Grape-Nuts'\n",
      " 'Great Grains Pecan' 'Honey Graham Ohs' 'Honey Nut Cheerios' 'Honey-comb'\n",
      " 'Just Right Crunchy  Nuggets' 'Just Right Fruit & Nut' 'Kix' 'Life'\n",
      " 'Lucky Charms' 'Maypo' 'Muesli Raisins; Dates; & Almonds'\n",
      " 'Muesli Raisins; Peaches; & Pecans' 'Mueslix Crispy Blend'\n",
      " 'Multi-Grain Cheerios' 'Nut&Honey Crunch' 'Nutri-Grain Almond-Raisin'\n",
      " 'Nutri-grain Wheat' 'Oatmeal Raisin Crisp' 'Post Nat. Raisin Bran'\n",
      " 'Product 19' 'Puffed Rice' 'Puffed Wheat' 'Quaker Oat Squares'\n",
      " 'Quaker Oatmeal' 'Raisin Bran' 'Raisin Nut Bran' 'Raisin Squares'\n",
      " 'Rice Chex' 'Rice Krispies' 'Shredded Wheat' \"Shredded Wheat 'n'Bran\"\n",
      " 'Shredded Wheat spoon size' 'Smacks' 'Special K'\n",
      " 'Strawberry Fruit Wheats' 'Total Corn Flakes' 'Total Raisin Bran'\n",
      " 'Total Whole Grain' 'Triples' 'Trix' 'Wheat Chex' 'Wheaties'\n",
      " 'Wheaties Honey Gold']\n"
     ]
    }
   ],
   "source": [
    "# Now use sort() to sort the array\n",
    "# print(np.sort(example)) # this creates a new sorted list\n",
    "example.sort()\n",
    "print(example)# this will sort the list itself"
   ]
  },
  {
   "cell_type": "code",
   "execution_count": null,
   "metadata": {
    "collapsed": true
   },
   "outputs": [],
   "source": [
    "feature_names"
   ]
  },
  {
   "cell_type": "code",
   "execution_count": 29,
   "metadata": {},
   "outputs": [
    {
     "name": "stdout",
     "output_type": "stream",
     "text": [
      "[ 6  9 13]\n",
      "[[ 1  2  6]\n",
      " [ 4  5  9]\n",
      " [ 7  8 13]]\n"
     ]
    }
   ],
   "source": [
    "my_data = np.array([[1, 2, 13],\n",
    "                    [4, 5, 6],\n",
    "                    [7, 8, 9]])\n",
    "last_col = np.array(my_data[:, 2]) # this creates a new copy of last column\n",
    "last_col = my_data[:, 2] # this simply refers to the last column of my_data\n",
    "last_col.sort()\n",
    "print(last_col)\n",
    "print(my_data)"
   ]
  },
  {
   "cell_type": "code",
   "execution_count": 30,
   "metadata": {},
   "outputs": [
    {
     "name": "stdout",
     "output_type": "stream",
     "text": [
      "(array([15], dtype=int64),)\n",
      "[68.402973 33.983679 59.425505 93.704912 34.384843 29.509541 33.174094\n",
      " 37.038562 49.120253 53.313813 18.042851 50.764999 19.823573 40.400208\n",
      " 22.736446 41.445019 45.863324 35.782791 22.396513 40.448772 64.533816\n",
      " 46.895644 36.176196 44.330856 32.207582 31.435973 58.345141 40.917047\n",
      " 41.015492 28.025765 35.252444 23.804043 52.076897 53.371007 45.811716\n",
      " 21.871292 31.072217 28.742414 36.523683 36.471512 39.241114 45.328074\n",
      " 26.734515 54.850917 37.136863 34.139765 30.313351 40.105965 29.924285\n",
      " 40.69232  59.642837 30.450843 37.840594 41.50354  60.756112 63.005645\n",
      " 49.511874 50.828392 39.259197 39.7034   55.333142 41.998933 40.560159\n",
      " 68.235885 74.472949 72.801787 31.230054 53.131324 59.363993 38.839746\n",
      " 28.592785 46.658844 39.106174 27.753301 49.787445 51.592193 36.187559]\n"
     ]
    }
   ],
   "source": [
    "# ------------- ratings ------------\n",
    "# What is the index of rating in feature_names?\n",
    "print(np.where(feature_names == \"rating\"))\n",
    "rating_data = np.array(data[:, 15]) # create a new numpy array with ratings\n",
    "# print(rating_data)\n",
    "# print(rating_data.dtype)\n",
    "# change the data type from string to float\n",
    "rating_data = rating_data.astype(float)\n",
    "print(rating_data)\n",
    "# rating_data_int = rating_data.astype(int)\n",
    "# print(rating_data_int)"
   ]
  },
  {
   "cell_type": "code",
   "execution_count": null,
   "metadata": {
    "collapsed": true
   },
   "outputs": [],
   "source": [
    "# Find the maximum rating\n",
    "print(\"maximum rating:\", np.max(rating_data))\n",
    "print(\"minimum rating:\", np.min(rating_data))\n",
    "print(\"average rating:\", np.mean(rating_data))\n",
    "\n",
    "# Find the index corresponding to the highest rating\n",
    "highest_rating = np.max(rating_data)\n",
    "highest_rating_index = np.where(rating_data == highest_rating)\n",
    "print(highest_rating_index)\n",
    "print(\"Product with highest rating:\", data[3, 0])\n",
    "\n",
    "lowest_rating = np.min(rating_data)\n",
    "lowest_rating_i = np.where(rating_data == lowest_rating)\n",
    "print(lowest_rating_i)\n",
    "print(data[10,0])"
   ]
  },
  {
   "cell_type": "code",
   "execution_count": 107,
   "metadata": {},
   "outputs": [
    {
     "name": "stdout",
     "output_type": "stream",
     "text": [
      "[0 3 2 1 4]\n",
      "Second largest: 0.24412138705245656\n",
      "[0.08837719 0.24412139 0.18426609 0.11674943 0.53219886]\n"
     ]
    }
   ],
   "source": [
    "# sort and argsort()\n",
    "arr = np.random.rand(5)\n",
    "print(arr.argsort())\n",
    "\n",
    "# find the second largest value in arr\n",
    "print(\"Second largest:\", arr[arr.argsort()[-2]])\n",
    "print(arr)9"
   ]
  },
  {
   "cell_type": "code",
   "execution_count": 33,
   "metadata": {},
   "outputs": [
    {
     "name": "stdout",
     "output_type": "stream",
     "text": [
      "maximum rating: 93.704912\n",
      "minimum rating: 18.042851\n",
      "average rating: 42.66570498701299\n",
      "(array([3], dtype=int64),)\n",
      "Product with highest rating: All-Bran with Extra Fiber\n",
      "(array([10], dtype=int64),)\n",
      "Cap'n'Crunch\n"
     ]
    }
   ],
   "source": [
    "# Sort the ratings using sort() and argsort()\n",
    "\n",
    "\n",
    "\n",
    "# Find the top five highest-rated cereal products\n",
    "\n",
    "\n",
    "\n",
    "# Find the top five lowest-rated cereal products\n",
    "\n",
    "\n"
   ]
  },
  {
   "cell_type": "code",
   "execution_count": null,
   "metadata": {
    "collapsed": true,
    "scrolled": true
   },
   "outputs": [],
   "source": [
    "# ------------- sugars -------------\n",
    "# What is the index of sugars in feature_names?\n",
    "\n",
    "\n",
    "\n",
    "# Is there any correlation between sugars and rating?\n",
    "import matplotlib.pyplot as plt\n",
    "%matplotlib inline\n",
    "# plt.plot(original_ratings, sugars_data)\n",
    "\n",
    "# change data type from str to float\n",
    "rating_data = original_ratings.astype(float)\n",
    "sugars_data = sugars_data.astype(float)\n",
    "# plt.plot(rating_data, sugars_data)\n",
    "\n",
    "# sort the ratings data (sugars data should be changed accordingly, how?)\n",
    "order = rating_data.argsort()\n",
    "print(\"order:\", order)\n",
    "plt.plot(rating_data[order], sugars_data[order], 'b.')\n"
   ]
  },
  {
   "cell_type": "code",
   "execution_count": null,
   "metadata": {
    "collapsed": true
   },
   "outputs": [],
   "source": [
    "# ------------- Weight -------------\n",
    "# What is the index of weight in feature_names?\n",
    "\n",
    "\n",
    "\n",
    "# How many different weights per serving are there?\n",
    "\n",
    "\n"
   ]
  },
  {
   "cell_type": "markdown",
   "metadata": {},
   "source": [
    "## Measure nutrition by serving\n",
    "\n",
    "The following project is inspired by [This Kaggle kernel](https://www.kaggle.com/frankwwu/how-cereal-manufacturers-mislead-consumers)\n",
    "\n",
    "Manufacturers like to measure nutrition with serving. Every manufacturer chaotically defines the serving with different weights and cups. Thus, for consumers, comparing nutrition measured with different serving is very confusing in practice. Imagine you are comparing nutrition facts of different cereals in a grocery store and they are measured with different serving, you definitely need a calculator and a piece of paper."
   ]
  },
  {
   "cell_type": "code",
   "execution_count": null,
   "metadata": {
    "collapsed": true
   },
   "outputs": [],
   "source": [
    "# Divide sugars by weight\n",
    "\n"
   ]
  },
  {
   "cell_type": "markdown",
   "metadata": {},
   "source": [
    "#### Arithmetic with NumPy arrays"
   ]
  },
  {
   "cell_type": "code",
   "execution_count": null,
   "metadata": {
    "collapsed": true
   },
   "outputs": [],
   "source": [
    "arr = np.array([[1., 2., 3.], [4., 5., 6.]])\n",
    "arr\n",
    "arr * arr\n",
    "arr - arr"
   ]
  },
  {
   "cell_type": "code",
   "execution_count": null,
   "metadata": {
    "collapsed": true
   },
   "outputs": [],
   "source": [
    "1 / arr\n",
    "arr ** 0.5"
   ]
  },
  {
   "cell_type": "code",
   "execution_count": null,
   "metadata": {
    "collapsed": true
   },
   "outputs": [],
   "source": [
    "arr2 = np.array([[0., 4., 1.], [7., 2., 12.]])\n",
    "arr2\n",
    "arr2 > arr"
   ]
  },
  {
   "cell_type": "code",
   "execution_count": null,
   "metadata": {
    "collapsed": true
   },
   "outputs": [],
   "source": [
    "# Plot ratings vs. unified_sugars_data\n",
    "\n",
    "\n"
   ]
  },
  {
   "cell_type": "code",
   "execution_count": null,
   "metadata": {
    "collapsed": true
   },
   "outputs": [],
   "source": [
    "# What is the maximum and minimum amount of sugar in a unified serving?\n",
    "\n",
    "\n"
   ]
  },
  {
   "cell_type": "markdown",
   "metadata": {},
   "source": [
    "### Create our own ratings\n",
    "\n",
    "- good-cereal-rating = protein + fiber + vitamins\n",
    "- bad-cereal-rating = fat + sodium + potass + sugars"
   ]
  },
  {
   "cell_type": "code",
   "execution_count": null,
   "metadata": {
    "collapsed": true
   },
   "outputs": [],
   "source": [
    "good_rating = data[:, 4].astype(float) + data[:, 7].astype(float) + data[:, 11].astype(float)\n",
    "print(good_rating)"
   ]
  },
  {
   "cell_type": "code",
   "execution_count": null,
   "metadata": {
    "collapsed": true
   },
   "outputs": [],
   "source": [
    "plt.plot(rating_data, good_rating, 'b.')"
   ]
  },
  {
   "cell_type": "markdown",
   "metadata": {},
   "source": [
    "## More on NumPy Arrays\n",
    "- Create a numpy array\n",
    "- Change data type\n",
    "- Arithmetic\n",
    "- Boolean indexing\n",
    "- Fancy indexing\n",
    "- Reshape numpy arrays\n",
    "- Element-wise array functions\n",
    "- Statistical methods"
   ]
  },
  {
   "cell_type": "code",
   "execution_count": 48,
   "metadata": {},
   "outputs": [
    {
     "name": "stdout",
     "output_type": "stream",
     "text": [
      "array1: [ 6.   7.5  8.  10. ]\n",
      "array\n",
      " [[1 2 3 4]\n",
      " [5 6 7 8]]\n",
      "array3\n",
      "[1. 1. 1. 1. 1. 1. 1. 1. 1. 1.]\n",
      "[[0. 0. 0. 0. 0. 0.]\n",
      " [0. 0. 0. 0. 0. 0.]\n",
      " [0. 0. 0. 0. 0. 0.]]\n",
      "array5\n",
      "[ 0  1  2  3  4  5  6  7  8  9 10 11 12 13 14 15 16 17 18 19 20 21 22 23\n",
      " 24 25 26 27 28 29 30 31 32 33 34 35 36 37 38 39 40 41 42 43 44 45 46 47\n",
      " 48 49 50 51 52 53 54 55 56 57 58 59 60 61 62 63 64 65 66 67 68 69 70 71\n",
      " 72 73 74 75 76 77 78 79 80 81 82 83 84 85 86 87 88 89 90 91 92 93 94 95\n",
      " 96 97 98 99]\n",
      "[1 3 5 7 9]\n"
     ]
    }
   ],
   "source": [
    "# Create a numpy array\n",
    "# 1. Array [6, 7.5, 8, 10.0]\n",
    "array = np.array([6, 7.5, 8, 10.0])\n",
    "print(\"array1:\", array)\n",
    "# 2. Array [[1, 2, 3, 4], [5, 6, 7, 8]]\n",
    "array2 = np.array ([[1,2,3,4],[5,6,7,8]])\n",
    "print(\"array\\n\",array2)\n",
    "# 3. An array filled with 10 ones\n",
    "array3 = np.ones(10)\n",
    "print(\"array3\")\n",
    "print(array3)\n",
    "# 4. A 3-by-6 2D array filled with zeros. np.zeros()\n",
    "array4 = np.zeros(shape=(3,6))\n",
    "print(array4)\n",
    "# 5. Use np.arange() to create [0, ..., 99]\n",
    "# array5 = np.arange(50, 100, 10)\n",
    "array5 = np.arange(100)\n",
    "print(\"array5\")\n",
    "print(array5)\n",
    "\n",
    "# 6. Use np.arange() to create [1, 3, 5, 7, 9]\n",
    "array6 = np.arange(1,10,2)\n",
    "print(array6)"
   ]
  },
  {
   "cell_type": "code",
   "execution_count": 68,
   "metadata": {},
   "outputs": [
    {
     "name": "stdout",
     "output_type": "stream",
     "text": [
      "[[0.21391417 0.07924372 0.59632204]\n",
      " [0.0142967  0.92360409 0.50829102]]\n",
      "[[-0.32904419  0.34162724  1.38937802]\n",
      " [-1.3966595  -0.67743766 -0.00604751]]\n",
      "[9.63178261 7.40818221 7.21490203 0.13925985 9.67804508 3.89290541\n",
      " 0.6196624  8.24624886]\n",
      "[5 2 2 5 3 3 1 6 4 6]\n",
      "[6 2 6 3 2 2 4 4 6 4]\n",
      "float64\n",
      "[[0 0 0]\n",
      " [0 0 0]]\n"
     ]
    }
   ],
   "source": [
    "# Data type\n",
    "# Use np.random.rand() to create a 2*3 2D array of random numbers\n",
    "array7 = np.random.rand(2, 3) # random numbers are sampled uniformly\n",
    "                                # from [0, 1)\n",
    "array8 = np.random.randn(2, 3) # sampled from Gaussian distribution\n",
    "print(array7)\n",
    "print(array8)\n",
    "\n",
    "# draw 8 numbers randomly from [0, 10)\n",
    "array9 = np.random.rand(8) * 10\n",
    "print(array9)\n",
    "\n",
    "# Simulate a sequence of 10 dice roll (numbers are randomly\n",
    "# drawn from {1, 2, 3, 4, 5, 6})\n",
    "print((np.random.rand(10) * 6).astype(int) + 1)\n",
    "# ?np.random.randint()\n",
    "print(np.random.randint(1, high=7, size=10))\n",
    "\n",
    "# Find the data type of the array\n",
    "print(array7.dtype)\n",
    "\n",
    "# Convert the type to np.int32\n",
    "print(array7.astype(int))"
   ]
  },
  {
   "cell_type": "code",
   "execution_count": 69,
   "metadata": {
    "scrolled": true
   },
   "outputs": [
    {
     "name": "stdout",
     "output_type": "stream",
     "text": [
      "arr * arr:\n",
      " [[ 1.  4.  9.]\n",
      " [16. 25. 36.]]\n",
      "arr - arr:\n",
      " [[0. 0. 0.]\n",
      " [0. 0. 0.]]\n",
      "arr > 3:\n",
      " [[False False False]\n",
      " [ True  True  True]]\n"
     ]
    }
   ],
   "source": [
    "# Array arithmetic\n",
    "arr = np.array([[1., 2., 3.], [4., 5., 6.]])\n",
    "\n",
    "print(\"arr * arr:\\n\", arr * arr)\n",
    "\n",
    "print(\"arr - arr:\\n\", arr - arr)\n",
    "\n",
    "print(\"arr > 3:\\n\", (arr > 3))"
   ]
  },
  {
   "cell_type": "code",
   "execution_count": 70,
   "metadata": {},
   "outputs": [
    {
     "name": "stdout",
     "output_type": "stream",
     "text": [
      "[[ 74  86]\n",
      " [173 203]]\n"
     ]
    }
   ],
   "source": [
    "# Multiply two 2D arrays as matrices\n",
    "mat1 = np.array([[1, 2, 3],\n",
    "                 [4, 5, 6]])\n",
    "mat2 = np.array([[7, 9],\n",
    "                 [11, 13],\n",
    "                 [15, 17]])\n",
    "product = mat1.dot(mat2)\n",
    "print(product)"
   ]
  },
  {
   "cell_type": "code",
   "execution_count": 81,
   "metadata": {},
   "outputs": [
    {
     "name": "stdout",
     "output_type": "stream",
     "text": [
      "[ 0  1  2  3  4  5  6  7  8  9 10 11]\n",
      "[[ 0  1  2  3  4  5]\n",
      " [ 6  7  8  9 10 11]]\n",
      "[[ 0  1  2  3]\n",
      " [ 4  5  6  7]\n",
      " [ 8  9 10 11]]\n",
      "[[ 0  1  2]\n",
      " [ 3  4  5]\n",
      " [ 6  7  8]\n",
      " [ 9 10 11]]\n",
      "[[ 0  1]\n",
      " [ 2  3]\n",
      " [ 4  5]\n",
      " [ 6  7]\n",
      " [ 8  9]\n",
      " [10 11]]\n",
      "[ 0  1  2  3  4  5  6  7  8  9 10 11]\n",
      "[[ 1  2  3  4]\n",
      " [ 5  6  7  8]\n",
      " [ 9 10 11 12]]\n",
      "[ 1  2  3  4  5  6  7  8  9 10 11 12]\n"
     ]
    }
   ],
   "source": [
    "# Reshape numpy arrays\n",
    "data = np.arange(12)\n",
    "print(data)\n",
    "\n",
    "# Reshape data to a 2*6 matrix\n",
    "data = data.reshape([2, 6])\n",
    "print(data)\n",
    "\n",
    "data = data.reshape([3, 4])\n",
    "print(data)\n",
    "# Reshape data so that it has 4 rows\n",
    "data = data.reshape([4, -1]) # -1 is a placeholder\n",
    "print(data)\n",
    "\n",
    "data = data.reshape([-1, 2])\n",
    "print(data)\n",
    "\n",
    "data = data.reshape(-1)\n",
    "print(data)\n",
    "\n",
    "# data = data.reshape([-1, -1]) # this gives an error\n",
    "# Swap rows and columns\n",
    "mat = np.array([[1, 5, 9],\n",
    "                [2, 6, 10],\n",
    "                [3, 7, 11],\n",
    "                [4, 8, 12]])\n",
    "# transpose the matrix\n",
    "mat = mat.T\n",
    "print(mat)\n",
    "mat = mat.reshape(12)\n",
    "print(mat)"
   ]
  },
  {
   "cell_type": "code",
   "execution_count": 88,
   "metadata": {},
   "outputs": [
    {
     "name": "stdout",
     "output_type": "stream",
     "text": [
      "name == 'Bob'\n",
      " [ True False False  True False False False]\n",
      "['Bob' 'Bob']\n",
      "data:\n",
      " [[ 0  1  2  3]\n",
      " [ 4  5  6  7]\n",
      " [ 8  9 10 11]\n",
      " [12 13 14 15]\n",
      " [16 17 18 19]\n",
      " [20 21 22 23]\n",
      " [24 25 26 27]]\n",
      "data[names == 'Bob']\n",
      " [[ 0  1  2  3]\n",
      " [12 13 14 15]]\n",
      "mask:\n",
      " [ True False  True  True  True False False]\n",
      "data[mask]:\n",
      " [[ 0  1  2  3]\n",
      " [ 8  9 10 11]\n",
      " [12 13 14 15]\n",
      " [16 17 18 19]]\n",
      "data[~mask]:\n",
      " [[ 4  5  6  7]\n",
      " [20 21 22 23]\n",
      " [24 25 26 27]]\n"
     ]
    }
   ],
   "source": [
    "# Boolean indexing\n",
    "names = np.array(['Bob', 'Joe', 'Will', 'Bob', 'Will', 'Joe', 'Joe'])\n",
    "print(\"name == 'Bob'\\n\", (names == 'Bob'))\n",
    "where_bob = (names == 'Bob')\n",
    "print(names[where_bob])\n",
    "\n",
    "data = np.arange(28).reshape([7, 4])\n",
    "print(\"data:\\n\", data)\n",
    "print(\"data[names == 'Bob']\\n\", data[names == 'Bob'])\n",
    "\n",
    "mask = ((names == 'Bob') | (names == 'Will'))\n",
    "print(\"mask:\\n\", mask)\n",
    "print(\"data[mask]:\\n\", data[mask])\n",
    "print(\"data[~mask]:\\n\", data[~mask])"
   ]
  },
  {
   "cell_type": "code",
   "execution_count": 95,
   "metadata": {},
   "outputs": [
    {
     "name": "stdout",
     "output_type": "stream",
     "text": [
      "[[ 0  1  2  3  4  5  6  7  8  9]\n",
      " [10 11 12 13 14 15 16 17 18 19]\n",
      " [20 21 22 23 24 25 26 27 28 29]\n",
      " [30 31 32 33 34 35 36 37 38 39]\n",
      " [40 41 42 43 44 45 46 47 48 49]\n",
      " [50 51 52 53 54 55 56 57 58 59]\n",
      " [60 61 62 63 64 65 66 67 68 69]\n",
      " [70 71 72 73 74 75 76 77 78 79]\n",
      " [80 81 82 83 84 85 86 87 88 89]\n",
      " [90 91 92 93 94 95 96 97 98 99]]\n",
      "[[40 41 42 43 44 45 46 47 48 49]\n",
      " [30 31 32 33 34 35 36 37 38 39]\n",
      " [ 0  1  2  3  4  5  6  7  8  9]\n",
      " [60 61 62 63 64 65 66 67 68 69]]\n",
      "[[ 7  5  3]\n",
      " [17 15 13]\n",
      " [27 25 23]\n",
      " [37 35 33]\n",
      " [47 45 43]\n",
      " [57 55 53]\n",
      " [67 65 63]\n",
      " [77 75 73]\n",
      " [87 85 83]\n",
      " [97 95 93]]\n",
      "[ 0 11 22 33 44]\n",
      "[[ 0  1  2  3  4]\n",
      " [10 11 12 13 14]\n",
      " [20 21 22 23 24]\n",
      " [30 31 32 33 34]\n",
      " [40 41 42 43 44]]\n"
     ]
    }
   ],
   "source": [
    "# Fancy indexing\n",
    "arr = np.arange(100).reshape([10, 10])\n",
    "print(arr)\n",
    "# Extract the following rows (keep the order): [4, 3, 0, 6]\n",
    "rows = [4, 3, 0, 6]\n",
    "sub_arr = arr[rows]\n",
    "print(sub_arr)\n",
    "# Extract the following columns (keep the order): [-3, -5, -7]\n",
    "cols = [-3, -5, -7]\n",
    "sub_arr = arr[:, cols]\n",
    "print(sub_arr)\n",
    "# Extract the intersection of the first 5 rows and first 5 columns\n",
    "sub_arr = arr[[0,1,2,3,4],[0,1,2,3,4]]\n",
    "print(sub_arr)\n",
    "sub_arr = arr[:5][:, :5]\n",
    "print(sub_arr)"
   ]
  },
  {
   "cell_type": "code",
   "execution_count": null,
   "metadata": {
    "collapsed": true
   },
   "outputs": [],
   "source": []
  },
  {
   "cell_type": "code",
   "execution_count": 99,
   "metadata": {},
   "outputs": [
    {
     "name": "stdout",
     "output_type": "stream",
     "text": [
      "[0.75895153 0.75723114 0.72957846 0.50767328 0.94609245 0.51189209\n",
      " 0.02208804 0.14367895 0.19014938 0.99722831 0.63471951 0.74796715\n",
      " 0.18658403 0.03396398 0.18386508 0.43030319 0.02735854 0.15610903\n",
      " 0.12120197 0.94876429 0.72402324 0.63500856 0.32979472 0.95759337\n",
      " 0.60433845 0.88716541 0.92267046 0.90928401 0.07988464 0.75778378\n",
      " 0.13402818 0.68633397 0.99479077 0.31033912 0.91065641 0.14061893\n",
      " 0.33818978 0.77967126 0.47915469 0.97433624 0.37538279 0.36577403\n",
      " 0.75108892 0.88052191 0.61631846 0.89998157 0.93476979 0.31200036\n",
      " 0.83896905 0.43686205 0.70636178 0.03428128 0.99972293 0.45896437\n",
      " 0.77047936 0.4072329  0.09613266 0.80699996 0.61844946 0.07644007\n",
      " 0.36912713 0.30922057 0.74362355 0.30884737 0.51420615 0.24712162\n",
      " 0.39963765 0.47622398 0.91433826 0.1054581  0.20278824 0.13315929\n",
      " 0.05218996 0.60055415 0.98946428 0.4577292  0.83272315 0.30077206\n",
      " 0.01688476 0.25973886 0.79210683 0.51653777 0.05146598 0.13625535\n",
      " 0.8064971  0.40753337 0.70660344 0.57893128 0.24048631 0.98613634\n",
      " 0.76852626 0.21113143 0.4699866  0.00908952 0.41322359 0.9629648\n",
      " 0.50907206 0.99357835 0.05303344 0.82948547]\n",
      "Mean: 0.5165425373451721\n",
      "51.654253734517205\n",
      "Standard deviation: 0.31450915347653924\n"
     ]
    }
   ],
   "source": [
    "# Create a list of 100 random number uniformly drawn between 0 and 1.\n",
    "arr = np.random.rand(100)\n",
    "print(arr)\n",
    "\n",
    "# Compute the mean\n",
    "mean = np.mean(arr)\n",
    "print('Mean:', mean)\n",
    "\n",
    "# Compute the sum\n",
    "sum = np.sum(arr)\n",
    "print(sum)\n",
    "\n",
    "# Compute the standard deviation\n",
    "std = np.std(arr)\n",
    "print(\"Standard deviation:\", std)"
   ]
  },
  {
   "cell_type": "markdown",
   "metadata": {},
   "source": [
    "# Week 2 Homework\n",
    "1. Fat\n",
    "    - Calculate fat per gram\n",
    "    - What is the maximum and minimum value for fat per gram?\n",
    "2. Calories\n",
    "    - Calculate calories per gram\n",
    "    - find the top 5 cereals with highest calories\n",
    "    - find the top 5 cereals with lowest calories\n",
    "3. Bad rating\n",
    "    - Calculate bad-cereal-rating for each cereal\n",
    "    - Plot Ratings vs. Bad-Cereal-Ratings.\n",
    "    - Do they agree each other?"
   ]
  },
  {
   "cell_type": "code",
   "execution_count": null,
   "metadata": {
    "collapsed": true
   },
   "outputs": [],
   "source": []
  }
 ],
 "metadata": {
  "kernelspec": {
   "display_name": "Python 3",
   "language": "python",
   "name": "python3"
  },
  "language_info": {
   "codemirror_mode": {
    "name": "ipython",
    "version": 3
   },
   "file_extension": ".py",
   "mimetype": "text/x-python",
   "name": "python",
   "nbconvert_exporter": "python",
   "pygments_lexer": "ipython3",
   "version": "3.6.3"
  }
 },
 "nbformat": 4,
 "nbformat_minor": 2
}
