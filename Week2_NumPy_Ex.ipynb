{
 "cells": [
  {
   "cell_type": "markdown",
   "metadata": {},
   "source": [
    "# Chapter 4: NumPy Basics: Arrays and Vectorized Computation"
   ]
  },
  {
   "cell_type": "code",
   "execution_count": 3,
   "metadata": {},
   "outputs": [],
   "source": [
    "import numpy as np"
   ]
  },
  {
   "cell_type": "markdown",
   "metadata": {},
   "source": [
    "## Dataset:80 Cereals - Nutrition data on 80cereal products\n",
    "\n",
    "The data file can be downloaded from [Kaggle.com](https://www.kaggle.com/crawford/80-cereals)\n",
    "\n",
    ">If you like to eat cereal, do yourself a favor and avoid this dataset at all costs. After seeing these data it will never be the same for me to eat Fruity Pebbles again. - Kaggle\n",
    "\n",
    "- Download the zip file from Kaggle (login required)\n",
    "- Unzip to get `cereal.csv` file\n",
    "- Move the csv file to a proper folder\n",
    "- Open the csv file using notepad and excel to examine its content"
   ]
  },
  {
   "cell_type": "code",
   "execution_count": 9,
   "metadata": {},
   "outputs": [
    {
     "data": {
      "text/plain": [
       "['cereal.csv']"
      ]
     },
     "execution_count": 9,
     "metadata": {},
     "output_type": "execute_result"
    }
   ],
   "source": [
    "import os\n",
    "os.getcwd()\n",
    "os.listdir('Data/cereals')\n",
    "# my cereal file can be accessed as \"Data/cereals/cereal.csv\""
   ]
  },
  {
   "cell_type": "code",
   "execution_count": 13,
   "metadata": {
    "collapsed": true
   },
   "outputs": [],
   "source": [
    "# Load the csv file with np.loadtxt()\n",
    "# Spoiler alert: in the next chapter we will learn a more user-friendly\n",
    "# way of loading data.\n",
    "\n",
    "# How to use np.loadtxt()?\n",
    "# ?np.loadtxt() # Display documentation\n",
    "# ??np.loadtxt() # Display source code"
   ]
  },
  {
   "cell_type": "code",
   "execution_count": 15,
   "metadata": {},
   "outputs": [
    {
     "data": {
      "text/plain": [
       "array([[0., 1.],\n",
       "       [2., 3.]])"
      ]
     },
     "execution_count": 15,
     "metadata": {},
     "output_type": "execute_result"
    }
   ],
   "source": [
    "# Try an example from documentation\n",
    "from io import StringIO \n",
    "c = StringIO(u\"0 1\\n2 3\")\n",
    "np.loadtxt(c)"
   ]
  },
  {
   "cell_type": "code",
   "execution_count": 27,
   "metadata": {},
   "outputs": [
    {
     "name": "stdout",
     "output_type": "stream",
     "text": [
      "['name' 'mfr' 'type' 'calories' 'protein' 'fat' 'sodium' 'fiber' 'carbo'\n",
      " 'sugars' 'potass' 'vitamins' 'shelf' 'weight' 'cups' 'rating']\n"
     ]
    }
   ],
   "source": [
    "# Load cereal.csv as a numpy array named raw_data\n",
    "raw_data = np.loadtxt(\"Data/cereals/cereal.csv\",\n",
    "                      dtype=str,\n",
    "                      delimiter=\",\")\n",
    "print(raw_data[0, :])"
   ]
  },
  {
   "cell_type": "code",
   "execution_count": 29,
   "metadata": {},
   "outputs": [
    {
     "name": "stdout",
     "output_type": "stream",
     "text": [
      "Shape: (78, 16)\n"
     ]
    }
   ],
   "source": [
    "# What is the shape of raw_data?\n",
    "print(\"Shape:\", raw_data.shape)"
   ]
  },
  {
   "cell_type": "code",
   "execution_count": 37,
   "metadata": {},
   "outputs": [
    {
     "name": "stdout",
     "output_type": "stream",
     "text": [
      "name, mfr, type, calories, protein, fat, sodium, fiber, carbo, sugars, potass, vitamins, shelf, weight, cups, rating\n"
     ]
    }
   ],
   "source": [
    "# Create a list of feature names (call it feature_names)\n",
    "feature_names = raw_data[0, :]\n",
    "# print(\"Feature names:\", raw_data[0, :])\n",
    "\n",
    "# Print a list in a nicer format:\n",
    "# Create a string that joins all values from the array\n",
    "feature_string = \", \".join(feature_names)\n",
    "print(feature_string)"
   ]
  },
  {
   "cell_type": "code",
   "execution_count": 38,
   "metadata": {},
   "outputs": [
    {
     "name": "stdout",
     "output_type": "stream",
     "text": [
      "Shape of data: (77, 16)\n"
     ]
    }
   ],
   "source": [
    "# Assign the rest to data\n",
    "data = raw_data[1:, :]\n",
    "\n",
    "# Print the shape of data\n",
    "print(\"Shape of data:\", data.shape)"
   ]
  },
  {
   "cell_type": "markdown",
   "metadata": {},
   "source": [
    "### Content\n",
    "What are the features?\n",
    "\n",
    "- Name: Name of cereal\n",
    "- mfr: Manufacturer of cereal\n",
    "    - A = American Home Food Products;\n",
    "    - G = General Mills\n",
    "    - K = Kelloggs\n",
    "    - N = Nabisco\n",
    "    - P = Post\n",
    "    - Q = Quaker Oats\n",
    "    - R = Ralston Purina\n",
    "- type:\n",
    "    - cold\n",
    "    - hot\n",
    "- calories: calories per serving\n",
    "- protein: grams of protein\n",
    "- fat: grams of fat\n",
    "- sodium: milligrams of sodium\n",
    "- fiber: grams of dietary fiber\n",
    "- carbo: grams of complex carbohydrates\n",
    "- sugars: grams of sugars\n",
    "- potass: milligrams of potassium\n",
    "- vitamins: vitamins and minerals - 0, 25, or 100, indicating the typical percentage of FDA recommended\n",
    "- shelf: display shelf (1, 2, or 3, counting from the floor)\n",
    "- weight: weight in ounces of one serving\n",
    "- cups: number of cups in one serving\n",
    "- rating: a rating of the cereals (Possibly from Consumer Reports?)"
   ]
  },
  {
   "cell_type": "markdown",
   "metadata": {},
   "source": [
    "Next, let's examine some important features"
   ]
  },
  {
   "cell_type": "code",
   "execution_count": 41,
   "metadata": {},
   "outputs": [
    {
     "name": "stdout",
     "output_type": "stream",
     "text": [
      "100% Bran\n",
      "100% Natural Bran\n",
      "All-Bran\n",
      "All-Bran with Extra Fiber\n",
      "Almond Delight\n",
      "Apple Cinnamon Cheerios\n",
      "Apple Jacks\n",
      "Basic 4\n",
      "Bran Chex\n",
      "Bran Flakes\n",
      "Cap'n'Crunch\n",
      "Cheerios\n",
      "Cinnamon Toast Crunch\n",
      "Clusters\n",
      "Cocoa Puffs\n",
      "Corn Chex\n",
      "Corn Flakes\n",
      "Corn Pops\n",
      "Count Chocula\n",
      "Cracklin' Oat Bran\n",
      "Cream of Wheat (Quick)\n",
      "Crispix\n",
      "Crispy Wheat & Raisins\n",
      "Double Chex\n",
      "Froot Loops\n",
      "Frosted Flakes\n",
      "Frosted Mini-Wheats\n",
      "Fruit & Fibre Dates; Walnuts; and Oats\n",
      "Fruitful Bran\n",
      "Fruity Pebbles\n",
      "Golden Crisp\n",
      "Golden Grahams\n",
      "Grape Nuts Flakes\n",
      "Grape-Nuts\n",
      "Great Grains Pecan\n",
      "Honey Graham Ohs\n",
      "Honey Nut Cheerios\n",
      "Honey-comb\n",
      "Just Right Crunchy  Nuggets\n",
      "Just Right Fruit & Nut\n",
      "Kix\n",
      "Life\n",
      "Lucky Charms\n",
      "Maypo\n",
      "Muesli Raisins; Dates; & Almonds\n",
      "Muesli Raisins; Peaches; & Pecans\n",
      "Mueslix Crispy Blend\n",
      "Multi-Grain Cheerios\n",
      "Nut&Honey Crunch\n",
      "Nutri-Grain Almond-Raisin\n",
      "Nutri-grain Wheat\n",
      "Oatmeal Raisin Crisp\n",
      "Post Nat. Raisin Bran\n",
      "Product 19\n",
      "Puffed Rice\n",
      "Puffed Wheat\n",
      "Quaker Oat Squares\n",
      "Quaker Oatmeal\n",
      "Raisin Bran\n",
      "Raisin Nut Bran\n",
      "Raisin Squares\n",
      "Rice Chex\n",
      "Rice Krispies\n",
      "Shredded Wheat\n",
      "Shredded Wheat 'n'Bran\n",
      "Shredded Wheat spoon size\n",
      "Smacks\n",
      "Special K\n",
      "Strawberry Fruit Wheats\n",
      "Total Corn Flakes\n",
      "Total Raisin Bran\n",
      "Total Whole Grain\n",
      "Triples\n",
      "Trix\n",
      "Wheat Chex\n",
      "Wheaties\n",
      "Wheaties Honey Gold\n"
     ]
    }
   ],
   "source": [
    "# ---------Names------------\n",
    "# Display the list of cereal names\n",
    "print(\"\\n\".join(data[:, 0]))"
   ]
  },
  {
   "cell_type": "code",
   "execution_count": 48,
   "metadata": {},
   "outputs": [
    {
     "name": "stdout",
     "output_type": "stream",
     "text": [
      "[1 3 2 7 5]\n",
      "[1 2 3 5 7]\n"
     ]
    }
   ],
   "source": [
    "# How to sort an numpy array?\n",
    "ary = np.array([1, 3, 2, 7, 5])\n",
    "print(ary)\n",
    "# ary = np.sort(ary)\n",
    "ary.sort()\n",
    "print(ary)"
   ]
  },
  {
   "cell_type": "code",
   "execution_count": 53,
   "metadata": {},
   "outputs": [
    {
     "name": "stdout",
     "output_type": "stream",
     "text": [
      "[[  1   4  23  19]\n",
      " [  5   2   6 -20]]\n",
      "sorting each row:\n",
      "[[  1   4  19  23]\n",
      " [-20   2   5   6]]\n",
      "sorting each column:\n",
      "[[  1   2   6 -20]\n",
      " [  5   4  23  19]]\n"
     ]
    }
   ],
   "source": [
    "matrix = np.array([[1, 4, 23, 19], \n",
    "                   [5, 2, 6, -20]])\n",
    "print(matrix)\n",
    "print(\"sorting each row:\")\n",
    "print(np.sort(matrix, axis=1)) # or: np.sort(matrix)\n",
    "print(\"sorting each column:\")\n",
    "print(np.sort(matrix, axis=0))"
   ]
  },
  {
   "cell_type": "code",
   "execution_count": 58,
   "metadata": {},
   "outputs": [
    {
     "name": "stdout",
     "output_type": "stream",
     "text": [
      "Maypo\n",
      "Froot Loops\n",
      "Fruitful Bran\n",
      "Just Right Fruit & Nut\n",
      "Multi-Grain Cheerios\n",
      "Honey-comb\n",
      "Shredded Wheat\n",
      "Cocoa Puffs\n",
      "Shredded Wheat spoon size\n",
      "Corn Flakes\n",
      "Kix\n",
      "100% Bran\n",
      "Double Chex\n",
      "All-Bran with Extra Fiber\n",
      "Clusters\n",
      "Grape-Nuts\n",
      "Muesli Raisins; Peaches; & Pecans\n",
      "Fruit & Fibre Dates; Walnuts; and Oats\n",
      "All-Bran\n",
      "Wheaties\n",
      "Puffed Wheat\n",
      "Crispy Wheat & Raisins\n",
      "Just Right Crunchy  Nuggets\n",
      "Lucky Charms\n",
      "Total Raisin Bran\n",
      "Shredded Wheat 'n'Bran\n",
      "Basic 4\n",
      "Fruity Pebbles\n",
      "Nut&Honey Crunch\n",
      "Count Chocula\n",
      "Raisin Squares\n",
      "Post Nat. Raisin Bran\n",
      "Mueslix Crispy Blend\n",
      "Raisin Nut Bran\n",
      "Apple Cinnamon Cheerios\n",
      "Bran Flakes\n",
      "Golden Crisp\n",
      "Rice Chex\n",
      "Wheat Chex\n",
      "Honey Nut Cheerios\n",
      "Honey Graham Ohs\n",
      "Life\n",
      "Frosted Flakes\n",
      "Product 19\n",
      "Cinnamon Toast Crunch\n",
      "Grape Nuts Flakes\n",
      "Raisin Bran\n",
      "Apple Jacks\n",
      "Cheerios\n",
      "Cream of Wheat (Quick)\n",
      "Muesli Raisins; Dates; & Almonds\n",
      "Almond Delight\n",
      "Puffed Rice\n",
      "Total Corn Flakes\n",
      "Golden Grahams\n",
      "Triples\n",
      "Wheaties Honey Gold\n",
      "Special K\n",
      "Frosted Mini-Wheats\n",
      "Nutri-grain Wheat\n",
      "Quaker Oat Squares\n",
      "Cracklin' Oat Bran\n",
      "Great Grains Pecan\n",
      "Corn Pops\n",
      "Cap'n'Crunch\n",
      "100% Natural Bran\n",
      "Quaker Oatmeal\n",
      "Rice Krispies\n",
      "Total Whole Grain\n",
      "Smacks\n",
      "Crispix\n",
      "Strawberry Fruit Wheats\n",
      "Bran Chex\n",
      "Nutri-Grain Almond-Raisin\n",
      "Corn Chex\n",
      "Trix\n",
      "Oatmeal Raisin Crisp\n"
     ]
    }
   ],
   "source": [
    "# The names are nicely sorted. How to sort an array?\n",
    "\n",
    "# To make an example, let's shuffle the array first\n",
    "name_data = np.array(data[:, 0])\n",
    "example = np.array(name_data)\n",
    "np.random.shuffle(example)\n",
    "print(\"\\n\".join(example))"
   ]
  },
  {
   "cell_type": "code",
   "execution_count": 63,
   "metadata": {},
   "outputs": [
    {
     "name": "stdout",
     "output_type": "stream",
     "text": [
      "['100% Bran' '100% Natural Bran' 'All-Bran' 'All-Bran with Extra Fiber'\n",
      " 'Almond Delight' 'Apple Cinnamon Cheerios' 'Apple Jacks' 'Basic 4'\n",
      " 'Bran Chex' 'Bran Flakes' \"Cap'n'Crunch\" 'Cheerios'\n",
      " 'Cinnamon Toast Crunch' 'Clusters' 'Cocoa Puffs' 'Corn Chex'\n",
      " 'Corn Flakes' 'Corn Pops' 'Count Chocula' \"Cracklin' Oat Bran\"\n",
      " 'Cream of Wheat (Quick)' 'Crispix' 'Crispy Wheat & Raisins' 'Double Chex'\n",
      " 'Froot Loops' 'Frosted Flakes' 'Frosted Mini-Wheats'\n",
      " 'Fruit & Fibre Dates; Walnuts; and Oats' 'Fruitful Bran' 'Fruity Pebbles'\n",
      " 'Golden Crisp' 'Golden Grahams' 'Grape Nuts Flakes' 'Grape-Nuts'\n",
      " 'Great Grains Pecan' 'Honey Graham Ohs' 'Honey Nut Cheerios' 'Honey-comb'\n",
      " 'Just Right Crunchy  Nuggets' 'Just Right Fruit & Nut' 'Kix' 'Life'\n",
      " 'Lucky Charms' 'Maypo' 'Muesli Raisins; Dates; & Almonds'\n",
      " 'Muesli Raisins; Peaches; & Pecans' 'Mueslix Crispy Blend'\n",
      " 'Multi-Grain Cheerios' 'Nut&Honey Crunch' 'Nutri-Grain Almond-Raisin'\n",
      " 'Nutri-grain Wheat' 'Oatmeal Raisin Crisp' 'Post Nat. Raisin Bran'\n",
      " 'Product 19' 'Puffed Rice' 'Puffed Wheat' 'Quaker Oat Squares'\n",
      " 'Quaker Oatmeal' 'Raisin Bran' 'Raisin Nut Bran' 'Raisin Squares'\n",
      " 'Rice Chex' 'Rice Krispies' 'Shredded Wheat' \"Shredded Wheat 'n'Bran\"\n",
      " 'Shredded Wheat spoon size' 'Smacks' 'Special K'\n",
      " 'Strawberry Fruit Wheats' 'Total Corn Flakes' 'Total Raisin Bran'\n",
      " 'Total Whole Grain' 'Triples' 'Trix' 'Wheat Chex' 'Wheaties'\n",
      " 'Wheaties Honey Gold']\n"
     ]
    }
   ],
   "source": [
    "# Now use sort() to sort the array\n",
    "# print(np.sort(example)) # this creates a new sorted list\n",
    "example.sort()\n",
    "print(example)# this will sort the list itself"
   ]
  },
  {
   "cell_type": "code",
   "execution_count": 64,
   "metadata": {},
   "outputs": [
    {
     "data": {
      "text/plain": [
       "array(['name', 'mfr', 'type', 'calories', 'protein', 'fat', 'sodium',\n",
       "       'fiber', 'carbo', 'sugars', 'potass', 'vitamins', 'shelf',\n",
       "       'weight', 'cups', 'rating'], dtype='<U38')"
      ]
     },
     "execution_count": 64,
     "metadata": {},
     "output_type": "execute_result"
    }
   ],
   "source": [
    "feature_names"
   ]
  },
  {
   "cell_type": "code",
   "execution_count": 80,
   "metadata": {},
   "outputs": [
    {
     "name": "stdout",
     "output_type": "stream",
     "text": [
      "[ 6  9 13]\n",
      "[[ 1  2  6]\n",
      " [ 4  5  9]\n",
      " [ 7  8 13]]\n"
     ]
    }
   ],
   "source": [
    "my_data = np.array([[1, 2, 13],\n",
    "                    [4, 5, 6],\n",
    "                    [7, 8, 9]])\n",
    "last_col = my_data[:, 2]\n",
    "last_col.sort()\n",
    "print(last_col)\n",
    "print(my_data)"
   ]
  },
  {
   "cell_type": "code",
   "execution_count": 85,
   "metadata": {},
   "outputs": [
    {
     "name": "stdout",
     "output_type": "stream",
     "text": [
      "(array([15], dtype=int64),)\n",
      "[68.402973 33.983679 59.425505 93.704912 34.384843 29.509541 33.174094\n",
      " 37.038562 49.120253 53.313813 18.042851 50.764999 19.823573 40.400208\n",
      " 22.736446 41.445019 45.863324 35.782791 22.396513 40.448772 64.533816\n",
      " 46.895644 36.176196 44.330856 32.207582 31.435973 58.345141 40.917047\n",
      " 41.015492 28.025765 35.252444 23.804043 52.076897 53.371007 45.811716\n",
      " 21.871292 31.072217 28.742414 36.523683 36.471512 39.241114 45.328074\n",
      " 26.734515 54.850917 37.136863 34.139765 30.313351 40.105965 29.924285\n",
      " 40.69232  59.642837 30.450843 37.840594 41.50354  60.756112 63.005645\n",
      " 49.511874 50.828392 39.259197 39.7034   55.333142 41.998933 40.560159\n",
      " 68.235885 74.472949 72.801787 31.230054 53.131324 59.363993 38.839746\n",
      " 28.592785 46.658844 39.106174 27.753301 49.787445 51.592193 36.187559]\n",
      "maximum rating: 93.704912\n",
      "minimum rating: 18.042851\n",
      "average rating: 42.66570498701299\n",
      "(array([3], dtype=int64),)\n",
      "Product with highest rating: All-Bran with Extra Fiber\n",
      "(array([10], dtype=int64),)\n",
      "Cap'n'Crunch\n"
     ]
    }
   ],
   "source": [
    "# ------------- ratings ------------\n",
    "# What is the index of rating in feature_names?\n",
    "print(np.where(feature_names == \"rating\"))\n",
    "rating_data = np.array(data[:, 15]) # create a new numpy array with ratings\n",
    "# print(rating_data)\n",
    "# print(rating_data.dtype)\n",
    "# change the data type from string to float\n",
    "rating_data = rating_data.astype(float)\n",
    "print(rating_data)\n",
    "# rating_data_int = rating_data.astype(int)\n",
    "# print(rating_data_int)\n",
    "\n",
    "# Find the maximum rating\n",
    "print(\"maximum rating:\", np.max(rating_data))\n",
    "print(\"minimum rating:\", np.min(rating_data))\n",
    "print(\"average rating:\", np.mean(rating_data))\n",
    "\n",
    "highest_rating = np.max(rating_data)\n",
    "\n",
    "# Find the index corresponding to the highest rating\n",
    "highest_rating_index = np.where(rating_data == highest_rating)\n",
    "print(highest_rating_index)\n",
    "print(\"Product with highest rating:\", data[3, 0])\n",
    "\n",
    "lowest_rating = np.min(rating_data)\n",
    "\n",
    "lowest_rating_i = np.where(rating_data == lowest_rating)\n",
    "print(lowest_rating_i)\n",
    "print(data[10,0])\n",
    "# Sort the ratings using sort() and argsort()\n",
    "\n",
    "\n",
    "\n",
    "# Find the top five highest-rated cereal products\n",
    "\n",
    "\n",
    "\n",
    "# Find the top five lowest-rated cereal products\n",
    "\n",
    "\n"
   ]
  },
  {
   "cell_type": "code",
   "execution_count": null,
   "metadata": {
    "collapsed": true,
    "scrolled": true
   },
   "outputs": [],
   "source": [
    "# ------------- sugars -------------\n",
    "# What is the index of sugars in feature_names?\n",
    "\n",
    "\n",
    "\n",
    "# Is there any correlation between sugars and rating?\n",
    "import matplotlib.pyplot as plt\n",
    "%matplotlib inline\n",
    "# plt.plot(original_ratings, sugars_data)\n",
    "\n",
    "# change data type from str to float\n",
    "rating_data = original_ratings.astype(float)\n",
    "sugars_data = sugars_data.astype(float)\n",
    "# plt.plot(rating_data, sugars_data)\n",
    "\n",
    "# sort the ratings data (sugars data should be changed accordingly, how?)\n",
    "order = rating_data.argsort()\n",
    "print(\"order:\", order)\n",
    "plt.plot(rating_data[order], sugars_data[order], 'b.')\n"
   ]
  },
  {
   "cell_type": "code",
   "execution_count": null,
   "metadata": {
    "collapsed": true
   },
   "outputs": [],
   "source": [
    "# ------------- Weight -------------\n",
    "# What is the index of weight in feature_names?\n",
    "\n",
    "\n",
    "\n",
    "# How many different weights per serving are there?\n",
    "\n",
    "\n"
   ]
  },
  {
   "cell_type": "markdown",
   "metadata": {},
   "source": [
    "## Measure nutrition by serving\n",
    "\n",
    "The following project is inspired by [This Kaggle kernel](https://www.kaggle.com/frankwwu/how-cereal-manufacturers-mislead-consumers)\n",
    "\n",
    "Manufacturers like to measure nutrition with serving. Every manufacturer chaotically defines the serving with different weights and cups. Thus, for consumers, comparing nutrition measured with different serving is very confusing in practice. Imagine you are comparing nutrition facts of different cereals in a grocery store and they are measured with different serving, you definitely need a calculator and a piece of paper."
   ]
  },
  {
   "cell_type": "code",
   "execution_count": null,
   "metadata": {
    "collapsed": true
   },
   "outputs": [],
   "source": [
    "# Divide sugars by weight\n",
    "\n"
   ]
  },
  {
   "cell_type": "markdown",
   "metadata": {},
   "source": [
    "#### Arithmetic with NumPy arrays"
   ]
  },
  {
   "cell_type": "code",
   "execution_count": null,
   "metadata": {
    "collapsed": true
   },
   "outputs": [],
   "source": [
    "arr = np.array([[1., 2., 3.], [4., 5., 6.]])\n",
    "arr\n",
    "arr * arr\n",
    "arr - arr"
   ]
  },
  {
   "cell_type": "code",
   "execution_count": null,
   "metadata": {
    "collapsed": true
   },
   "outputs": [],
   "source": [
    "1 / arr\n",
    "arr ** 0.5"
   ]
  },
  {
   "cell_type": "code",
   "execution_count": null,
   "metadata": {
    "collapsed": true
   },
   "outputs": [],
   "source": [
    "arr2 = np.array([[0., 4., 1.], [7., 2., 12.]])\n",
    "arr2\n",
    "arr2 > arr"
   ]
  },
  {
   "cell_type": "code",
   "execution_count": 1,
   "metadata": {
    "collapsed": true
   },
   "outputs": [],
   "source": [
    "# Plot ratings vs. unified_sugars_data\n",
    "\n",
    "\n"
   ]
  },
  {
   "cell_type": "code",
   "execution_count": null,
   "metadata": {
    "collapsed": true
   },
   "outputs": [],
   "source": [
    "# What is the maximum and minimum amount of sugar in a unified serving?\n",
    "\n",
    "\n"
   ]
  },
  {
   "cell_type": "markdown",
   "metadata": {},
   "source": [
    "### Create our own ratings\n",
    "\n",
    "- good-cereal-rating = protein + fiber + vitamins\n",
    "- bad-cereal-rating = fat + sodium + potass + sugars"
   ]
  },
  {
   "cell_type": "code",
   "execution_count": null,
   "metadata": {
    "collapsed": true
   },
   "outputs": [],
   "source": [
    "good_rating = data[:, 4].astype(float) + data[:, 7].astype(float) + data[:, 11].astype(float)\n",
    "print(good_rating)"
   ]
  },
  {
   "cell_type": "code",
   "execution_count": null,
   "metadata": {
    "collapsed": true
   },
   "outputs": [],
   "source": [
    "plt.plot(rating_data, good_rating, 'b.')"
   ]
  },
  {
   "cell_type": "markdown",
   "metadata": {},
   "source": [
    "## More on NumPy Arrays\n",
    "- Create a numpy array\n",
    "- Change data type\n",
    "- Arithmetic\n",
    "- Boolean indexing\n",
    "- Fancy indexing\n",
    "- Reshape numpy arrays\n",
    "- Element-wise array functions\n",
    "- Statistical methods"
   ]
  },
  {
   "cell_type": "code",
   "execution_count": 1,
   "metadata": {},
   "outputs": [],
   "source": [
    "# Create a numpy array\n",
    "# 1. Array [6, 7.5, 8, 10.0]\n",
    "\n",
    "\n",
    "# 2. Array [[1, 2, 3, 4], [5, 6, 7, 8]]\n",
    "\n",
    "\n",
    "# 3. An array filled with 10 ones\n",
    "\n",
    "\n",
    "# 4. A 3-by-6 2D array filled with zeros\n",
    "\n",
    "\n",
    "# 5. Use np.arange() to create [0, ..., 99]\n",
    "\n",
    "\n",
    "# 6. Use np.arange() to create [1, 3, 5, 7, 9]"
   ]
  },
  {
   "cell_type": "code",
   "execution_count": null,
   "metadata": {},
   "outputs": [],
   "source": [
    "# Data type\n",
    "# Use np.random.rand() to create a 2*3 2D array of random numbers\n",
    "\n",
    "\n",
    "# Find the data type of the array\n",
    "\n",
    "\n",
    "# Convert the type to np.int32"
   ]
  },
  {
   "cell_type": "code",
   "execution_count": 4,
   "metadata": {},
   "outputs": [
    {
     "name": "stdout",
     "output_type": "stream",
     "text": [
      "arr * arr:\n",
      " [[ 1.  4.  9.]\n",
      " [16. 25. 36.]]\n",
      "arr - arr:\n",
      " [[0. 0. 0.]\n",
      " [0. 0. 0.]]\n",
      "arr > 3:\n",
      " [[False False False]\n",
      " [ True  True  True]]\n"
     ]
    }
   ],
   "source": [
    "# Array arithmetic\n",
    "arr = np.array([[1., 2., 3.], [4., 5., 6.]])\n",
    "\n",
    "print(\"arr * arr:\\n\", arr * arr)\n",
    "\n",
    "print(\"arr - arr:\\n\", arr - arr)\n",
    "\n",
    "print(\"arr > 3:\\n\", (arr > 3))"
   ]
  },
  {
   "cell_type": "code",
   "execution_count": 8,
   "metadata": {},
   "outputs": [
    {
     "name": "stdout",
     "output_type": "stream",
     "text": [
      "[ 0  1  2  3  4  5  6  7  8  9 10 11]\n"
     ]
    }
   ],
   "source": [
    "# Reshape numpy arrays\n",
    "data = np.arange(12)\n",
    "print(data)\n",
    "\n",
    "# Reshape data to a 2*6 matrix\n",
    "\n",
    "\n",
    "# Reshape data so that it has 4 rows\n",
    "\n",
    "\n",
    "# Swap rows and columns\n",
    "\n"
   ]
  },
  {
   "cell_type": "code",
   "execution_count": 7,
   "metadata": {},
   "outputs": [
    {
     "name": "stdout",
     "output_type": "stream",
     "text": [
      "name == 'Bob'\n",
      " [ True False False  True False False False]\n",
      "data:\n",
      " [[ 0  1  2  3]\n",
      " [ 4  5  6  7]\n",
      " [ 8  9 10 11]\n",
      " [12 13 14 15]\n",
      " [16 17 18 19]\n",
      " [20 21 22 23]\n",
      " [24 25 26 27]]\n",
      "data[names == 'Bob']\n",
      " [[ 0  1  2  3]\n",
      " [12 13 14 15]]\n",
      "mask:\n",
      " [ True False  True  True  True False False]\n",
      "data[mask]:\n",
      " [[ 0  1  2  3]\n",
      " [ 8  9 10 11]\n",
      " [12 13 14 15]\n",
      " [16 17 18 19]]\n",
      "data[~mask]:\n",
      " [[ 4  5  6  7]\n",
      " [20 21 22 23]\n",
      " [24 25 26 27]]\n"
     ]
    }
   ],
   "source": [
    "# Boolean indexing\n",
    "names = np.array(['Bob', 'Joe', 'Will', 'Bob', 'Will', 'Joe', 'Joe'])\n",
    "print(\"name == 'Bob'\\n\", (names == 'Bob'))\n",
    "\n",
    "data = np.arange(28).reshape([7, 4])\n",
    "print(\"data:\\n\", data)\n",
    "print(\"data[names == 'Bob']\\n\", data[names == 'Bob'])\n",
    "\n",
    "mask = (names == 'Bob') | (names == 'Will')\n",
    "print(\"mask:\\n\", mask)\n",
    "print(\"data[mask]:\\n\", data[mask])\n",
    "print(\"data[~mask]:\\n\", data[~mask])"
   ]
  },
  {
   "cell_type": "code",
   "execution_count": null,
   "metadata": {},
   "outputs": [],
   "source": [
    "# Fancy indexing\n",
    "arr = np.arange(100).reshape([10, 10])\n",
    "\n",
    "# Extract the following rows (keep the order): [4, 3, 0, 6]\n",
    "\n",
    "# Extract the following columns (keep the order): [-3, -5, -7]\n",
    "\n",
    "\n",
    "# Extract the intersection of the first 5 rows and first 5 columns"
   ]
  },
  {
   "cell_type": "code",
   "execution_count": null,
   "metadata": {},
   "outputs": [],
   "source": []
  },
  {
   "cell_type": "code",
   "execution_count": null,
   "metadata": {},
   "outputs": [],
   "source": [
    "# Create a list of 100 random number uniformly drawn between 0 and 1.\n",
    "\n",
    "\n",
    "# Compute the mean\n",
    "\n",
    "\n",
    "# Compute the sum\n",
    "\n",
    "\n",
    "# Compute the standard deviation"
   ]
  },
  {
   "cell_type": "markdown",
   "metadata": {},
   "source": [
    "# Week 2 Homework\n",
    "1. Fat\n",
    "    - Calculate fat per gram\n",
    "    - What is the maximum and minimum value for fat per gram?\n",
    "2. Calories\n",
    "    - Calculate calories per gram\n",
    "    - find the top 5 cereals with highest calories\n",
    "    - find the top 5 cereals with lowest calories\n",
    "3. Bad rating\n",
    "    - Calculate bad-cereal-rating for each cereal\n",
    "    - Plot Ratings vs. Bad-Cereal-Ratings.\n",
    "    - Do they agree each other?"
   ]
  },
  {
   "cell_type": "code",
   "execution_count": null,
   "metadata": {
    "collapsed": true
   },
   "outputs": [],
   "source": []
  }
 ],
 "metadata": {
  "kernelspec": {
   "display_name": "Python 3",
   "language": "python",
   "name": "python3"
  },
  "language_info": {
   "codemirror_mode": {
    "name": "ipython",
    "version": 3
   },
   "file_extension": ".py",
   "mimetype": "text/x-python",
   "name": "python",
   "nbconvert_exporter": "python",
   "pygments_lexer": "ipython3",
   "version": "3.7.0"
  }
 },
 "nbformat": 4,
 "nbformat_minor": 2
}
